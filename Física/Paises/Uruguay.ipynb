{
 "cells": [
  {
   "cell_type": "code",
   "execution_count": 1,
   "id": "993ca8cd",
   "metadata": {},
   "outputs": [],
   "source": [
    "import pandas as pd\n",
    "import matplotlib.pyplot as plt\n",
    "import numpy as np\n",
    "import seaborn as sns\n",
    "import re\n",
    "import igraph as ig\n",
    "import gravis as gv\n",
    "import networkx as nx\n",
    "#import leidenalg as la\n",
    "\n",
    "from matplotlib import rc\n",
    "from functions import clean_address, es_diagonal_cero, propiedades, centralidades, centralizacion"
   ]
  },
  {
   "cell_type": "code",
   "execution_count": 2,
   "id": "18eb38dc",
   "metadata": {},
   "outputs": [],
   "source": [
    "dfa = pd.read_excel(\"../Datasets/Research_status_2017_2022.xlsx\")"
   ]
  },
  {
   "cell_type": "code",
   "execution_count": 3,
   "id": "0343adc1",
   "metadata": {},
   "outputs": [],
   "source": [
    "top = ['Multidisciplinary', 'Particles & Fields', 'Applied', 'Condensed Matter', 'Mathematical', 'Molecular & Chemical', 'Physical', 'Astronomy & Astrophysics', 'Fluids & Plasmas']\n",
    "anios = [2017, 2018, 2019, 2020, 2021, 2022]"
   ]
  },
  {
   "cell_type": "markdown",
   "id": "6f628178",
   "metadata": {},
   "source": [
    "## Todos los años"
   ]
  },
  {
   "cell_type": "code",
   "execution_count": 4,
   "id": "31eb5e1a",
   "metadata": {},
   "outputs": [],
   "source": [
    "dfe = dfa.copy()\n",
    "dfe = dfe[['Language', 'Affiliations', 'Document Type', 'Addresses', 'Publication Year', 'WoS Categories']]\n",
    "dfe = dfe.dropna(subset = ['Addresses', 'Affiliations'])\n",
    "dfe = dfe[dfe['Document Type']=='Article']\n",
    "dfe = dfe[dfe['Publication Year']<2023]\n",
    "dfe[\"Addresses\"] = dfe[\"Addresses\"].apply(lambda x: re.sub(r'\\[.*?\\]', '', x))\n",
    "dfe['Addresses'] = dfe['Addresses'].apply(lambda x: x + ';')\n",
    "dfe['Countries'] = dfe['Addresses'].apply(lambda x: '; '.join(re.findall(r', ([A-Z][a-z]+);', x)))\n",
    "pattern = re.compile(r'USA|Peoples R China|BELARUS|Korea|Czech Republic|U Arab Emirates|South Africa|Ireland')\n",
    "\n",
    "dfe = dfe[~dfe['Addresses'].str.contains(r', [A-Z][a-z]+ [A-Z][a-z]+;', regex=True)]\n",
    "dfe = dfe[~dfe['Addresses'].str.contains(pattern)]\n",
    "dfe['Paises'] = dfe['Countries'].apply(clean_address)\n",
    "dfe['Categorias'] = dfe['WoS Categories'].apply(clean_address)\n",
    "dfe['Type'] = dfe['Document Type'].apply(clean_address)\n",
    "\n",
    "dfe = dfe[dfe['Categorias'].apply(lambda x: all(item in top for item in x))]\n",
    "dfe = dfe[dfe['Paises'].apply(lambda x: len(x) == 1 and x[0] == 'Uruguay')]\n"
   ]
  },
  {
   "cell_type": "code",
   "execution_count": 5,
   "id": "e4bf2eb8",
   "metadata": {},
   "outputs": [
    {
     "name": "stdout",
     "output_type": "stream",
     "text": [
      "5\n"
     ]
    }
   ],
   "source": [
    "dfAll = dfe\n",
    "dfAll['Instituciones'] = dfAll['Affiliations'].str.split(';', expand=False)\n",
    "dfAll['Instituciones'] = dfAll['Instituciones'].apply(lambda inst: [i.strip() for i in inst])\n",
    "\n",
    "all_inst = set()\n",
    "for inst in dfAll['Instituciones']:\n",
    "    all_inst.update(inst)\n",
    "all_inst = sorted(list(all_inst))\n",
    "adj_matrix = pd.DataFrame(0, index=all_inst, columns=all_inst)\n",
    "for countries in dfAll['Instituciones']:\n",
    "    countries = sorted(countries)\n",
    "    for i in range(len(countries)):\n",
    "        for j in range(i+1, len(countries)):\n",
    "            adj_matrix.loc[countries[i], countries[j]] += 1\n",
    "            adj_matrix.loc[countries[j], countries[i]] += 1\n",
    "adjAll = adj_matrix.to_numpy()\n",
    "adjAll = adjAll.astype(float)\n",
    "\n",
    "InstA = nx.Graph()\n",
    "\n",
    "for countries in dfAll['Instituciones']:\n",
    "    countries = sorted(countries)\n",
    "    for i in range(len(countries)):\n",
    "        for j in range(i + 1, len(countries)):\n",
    "            if countries[i] != countries[j]:  # Agregar esta condición para evitar bucles\n",
    "                InstA.add_edge(countries[i], countries[j], weight=adjAll[all_inst.index(countries[i])][all_inst.index(countries[j])])\n",
    "\n",
    "c = nx.algorithms.degree_centrality(InstA)\n",
    "nx.set_node_attributes(InstA, c, 'betweenness')\n",
    "\n",
    "\n",
    "fig = gv.d3(InstA, use_node_size_normalization=True, \n",
    "            node_size_normalization_max = 100,      \n",
    "            use_edge_size_normalization = True, \n",
    "            edge_size_data_source = 'weight', \n",
    "            edge_curvature = 0.4)\n",
    "\n",
    "print(len(all_inst))"
   ]
  },
  {
   "cell_type": "code",
   "execution_count": 6,
   "id": "444fd210",
   "metadata": {},
   "outputs": [
    {
     "name": "stdout",
     "output_type": "stream",
     "text": [
      "Graph with 4 nodes and 2 edges\n",
      "N de Nodos:  4\n",
      "N de aristas:  2\n",
      "Es direccionado:  False\n",
      "Transitividad 0\n",
      "Centralización  0.0\n",
      "Tiene:  2 comunidades\n",
      "[frozenset({'Institut Pasteur de Montevideo', 'Le Reseau International des Instituts Pasteur (RIIP)'}), frozenset({'Universidad de la Republica, Uruguay', 'Universidad de Montevideo'})]\n",
      "Densidad: 0.3333333333333333\n",
      "None\n"
     ]
    }
   ],
   "source": [
    "print(propiedades(InstA))"
   ]
  },
  {
   "cell_type": "markdown",
   "id": "dbb5da7f",
   "metadata": {},
   "source": [
    "### 2017"
   ]
  },
  {
   "cell_type": "code",
   "execution_count": 7,
   "id": "0b3b459a",
   "metadata": {},
   "outputs": [],
   "source": [
    "dfe2017 = dfe[dfe['Publication Year']==2017].copy()\n",
    "dfe2017['Instituciones'] = dfe2017['Affiliations'].str.split(';', expand=False)\n",
    "dfe2017['Instituciones'] = dfe2017['Instituciones'].apply(lambda inst: [i.strip() for i in inst])\n",
    "\n",
    "all_inst = set()\n",
    "for inst in dfe2017['Instituciones']:\n",
    "    all_inst.update(inst)\n",
    "all_inst = sorted(list(all_inst))\n",
    "adj_matrix = pd.DataFrame(0, index=all_inst, columns=all_inst)\n",
    "for countries in dfe2017['Instituciones']:\n",
    "    countries = sorted(countries)\n",
    "    for i in range(len(countries)):\n",
    "        for j in range(i+1, len(countries)):\n",
    "            adj_matrix.loc[countries[i], countries[j]] += 1\n",
    "            adj_matrix.loc[countries[j], countries[i]] += 1\n",
    "adj = adj_matrix.to_numpy()\n",
    "adj = adj.astype(float)\n",
    "\n",
    "graph2017 = nx.Graph()\n",
    "\n",
    "for countries in dfe2017['Instituciones']:\n",
    "    countries = sorted(countries)\n",
    "    for i in range(len(countries)):\n",
    "        for j in range(i + 1, len(countries)):\n",
    "            graph2017.add_edge(countries[i], countries[j], weight=adj[all_inst.index(countries[i])][all_inst.index(countries[j])])\n",
    "\n",
    "\n",
    "\n",
    "c = nx.algorithms.degree_centrality(graph2017)\n",
    "nx.set_node_attributes(graph2017, c, 'betweenness')\n",
    "\n",
    "\n",
    "labels = {node: node for node in graph2017.nodes()}\n",
    "fig = gv.d3(graph2017, use_node_size_normalization=True, \n",
    "            node_size_normalization_max = 100,      \n",
    "            use_edge_size_normalization = True, \n",
    "            edge_size_data_source = 'weight', \n",
    "            edge_curvature = 0.4)\n",
    "\n",
    "centr2017 = centralidades(graph2017)\n",
    "cent_grado = centr2017['centralidad'].head(20)\n",
    "centralizacion2017 = centralizacion(graph2017)\n",
    "densidad2017 = nx.density(graph2017)\n",
    "asort2017 = nx.degree_assortativity_coefficient(graph2017)\n",
    "trans2017 = nx.transitivity(graph2017)"
   ]
  },
  {
   "cell_type": "code",
   "execution_count": 8,
   "id": "064b3679",
   "metadata": {},
   "outputs": [
    {
     "name": "stdout",
     "output_type": "stream",
     "text": [
      "Graph with 3 nodes and 2 edges\n",
      "N de Nodos:  3\n",
      "N de aristas:  2\n",
      "Es direccionado:  False\n",
      "Transitividad 0\n",
      "Centralización  0.5\n",
      "Tiene:  2 comunidades\n",
      "[frozenset({'Institut Pasteur de Montevideo', 'Le Reseau International des Instituts Pasteur (RIIP)'}), frozenset({'Universidad de la Republica, Uruguay'})]\n",
      "Densidad: 0.6666666666666666\n",
      "None\n"
     ]
    }
   ],
   "source": [
    "print(propiedades(graph2017))"
   ]
  },
  {
   "cell_type": "markdown",
   "id": "b57a01a5",
   "metadata": {},
   "source": [
    "### 2018"
   ]
  },
  {
   "cell_type": "code",
   "execution_count": 10,
   "id": "56fdc02f",
   "metadata": {},
   "outputs": [
    {
     "ename": "NetworkXPointlessConcept",
     "evalue": "cannot compute centrality for the null graph",
     "output_type": "error",
     "traceback": [
      "\u001b[1;31m---------------------------------------------------------------------------\u001b[0m",
      "\u001b[1;31mNetworkXPointlessConcept\u001b[0m                  Traceback (most recent call last)",
      "Cell \u001b[1;32mIn[10], line 39\u001b[0m\n\u001b[0;32m     32\u001b[0m labels \u001b[38;5;241m=\u001b[39m {node: node \u001b[38;5;28;01mfor\u001b[39;00m node \u001b[38;5;129;01min\u001b[39;00m graph2018\u001b[38;5;241m.\u001b[39mnodes()}\n\u001b[0;32m     33\u001b[0m fig \u001b[38;5;241m=\u001b[39m gv\u001b[38;5;241m.\u001b[39md3(graph2018, use_node_size_normalization\u001b[38;5;241m=\u001b[39m\u001b[38;5;28;01mTrue\u001b[39;00m, \n\u001b[0;32m     34\u001b[0m             node_size_normalization_max \u001b[38;5;241m=\u001b[39m \u001b[38;5;241m100\u001b[39m,      \n\u001b[0;32m     35\u001b[0m             use_edge_size_normalization \u001b[38;5;241m=\u001b[39m \u001b[38;5;28;01mTrue\u001b[39;00m, \n\u001b[0;32m     36\u001b[0m             edge_size_data_source \u001b[38;5;241m=\u001b[39m \u001b[38;5;124m'\u001b[39m\u001b[38;5;124mweight\u001b[39m\u001b[38;5;124m'\u001b[39m, \n\u001b[0;32m     37\u001b[0m             edge_curvature \u001b[38;5;241m=\u001b[39m \u001b[38;5;241m0.4\u001b[39m)\n\u001b[1;32m---> 39\u001b[0m centr2018 \u001b[38;5;241m=\u001b[39m \u001b[43mcentralidades\u001b[49m\u001b[43m(\u001b[49m\u001b[43mgraph2018\u001b[49m\u001b[43m)\u001b[49m\n\u001b[0;32m     40\u001b[0m cent_grado \u001b[38;5;241m=\u001b[39m centr2018[\u001b[38;5;124m'\u001b[39m\u001b[38;5;124mcentralidad\u001b[39m\u001b[38;5;124m'\u001b[39m]\u001b[38;5;241m.\u001b[39mhead(\u001b[38;5;241m20\u001b[39m)\n\u001b[0;32m     41\u001b[0m centralizacion2018 \u001b[38;5;241m=\u001b[39m centralizacion(graph2018)\n",
      "File \u001b[1;32mc:\\Users\\56931\\Analisis cuantitativo de redes científicas\\Física\\Paises\\functions.py:66\u001b[0m, in \u001b[0;36mcentralidades\u001b[1;34m(grafo)\u001b[0m\n\u001b[0;32m     63\u001b[0m metricas[\u001b[38;5;124m\"\u001b[39m\u001b[38;5;124mcercania\u001b[39m\u001b[38;5;124m\"\u001b[39m] \u001b[38;5;241m=\u001b[39m cercania\n\u001b[0;32m     65\u001b[0m \u001b[38;5;66;03m#Centralidad de Vector Propio\u001b[39;00m\n\u001b[1;32m---> 66\u001b[0m eigen_cen \u001b[38;5;241m=\u001b[39m \u001b[43mnx\u001b[49m\u001b[38;5;241;43m.\u001b[39;49m\u001b[43meigenvector_centrality\u001b[49m\u001b[43m(\u001b[49m\u001b[43mgrafo\u001b[49m\u001b[43m)\u001b[49m\n\u001b[0;32m     67\u001b[0m eigen \u001b[38;5;241m=\u001b[39m pd\u001b[38;5;241m.\u001b[39mDataFrame(\u001b[38;5;28mlist\u001b[39m(eigen_cen\u001b[38;5;241m.\u001b[39mitems()), columns\u001b[38;5;241m=\u001b[39m[\u001b[38;5;124m'\u001b[39m\u001b[38;5;124mInstitucion\u001b[39m\u001b[38;5;124m'\u001b[39m, \u001b[38;5;124m'\u001b[39m\u001b[38;5;124mCentralidad\u001b[39m\u001b[38;5;124m'\u001b[39m])\n\u001b[0;32m     68\u001b[0m eigen \u001b[38;5;241m=\u001b[39m eigen\u001b[38;5;241m.\u001b[39msort_values(by\u001b[38;5;241m=\u001b[39m\u001b[38;5;124m'\u001b[39m\u001b[38;5;124mCentralidad\u001b[39m\u001b[38;5;124m'\u001b[39m, ascending\u001b[38;5;241m=\u001b[39m\u001b[38;5;28;01mFalse\u001b[39;00m)\n",
      "File \u001b[1;32mc:\\Users\\56931\\anaconda3\\Lib\\site-packages\\networkx\\classes\\backends.py:148\u001b[0m, in \u001b[0;36m_dispatch.<locals>.wrapper\u001b[1;34m(*args, **kwds)\u001b[0m\n\u001b[0;32m    144\u001b[0m         \u001b[38;5;28;01melse\u001b[39;00m:\n\u001b[0;32m    145\u001b[0m             \u001b[38;5;28;01mraise\u001b[39;00m NetworkXNotImplemented(\n\u001b[0;32m    146\u001b[0m                 \u001b[38;5;124mf\u001b[39m\u001b[38;5;124m\"\u001b[39m\u001b[38;5;124m'\u001b[39m\u001b[38;5;132;01m{\u001b[39;00mname\u001b[38;5;132;01m}\u001b[39;00m\u001b[38;5;124m'\u001b[39m\u001b[38;5;124m not implemented by \u001b[39m\u001b[38;5;132;01m{\u001b[39;00mplugin_name\u001b[38;5;132;01m}\u001b[39;00m\u001b[38;5;124m\"\u001b[39m\n\u001b[0;32m    147\u001b[0m             )\n\u001b[1;32m--> 148\u001b[0m \u001b[38;5;28;01mreturn\u001b[39;00m \u001b[43mfunc\u001b[49m\u001b[43m(\u001b[49m\u001b[38;5;241;43m*\u001b[39;49m\u001b[43margs\u001b[49m\u001b[43m,\u001b[49m\u001b[43m \u001b[49m\u001b[38;5;241;43m*\u001b[39;49m\u001b[38;5;241;43m*\u001b[39;49m\u001b[43mkwds\u001b[49m\u001b[43m)\u001b[49m\n",
      "File \u001b[1;32m<class 'networkx.utils.decorators.argmap'> compilation 12:4\u001b[0m, in \u001b[0;36margmap_eigenvector_centrality_9\u001b[1;34m(G, max_iter, tol, nstart, weight)\u001b[0m\n\u001b[0;32m      2\u001b[0m \u001b[38;5;28;01mimport\u001b[39;00m \u001b[38;5;21;01mcollections\u001b[39;00m\n\u001b[0;32m      3\u001b[0m \u001b[38;5;28;01mimport\u001b[39;00m \u001b[38;5;21;01mgzip\u001b[39;00m\n\u001b[1;32m----> 4\u001b[0m \u001b[38;5;28;01mimport\u001b[39;00m \u001b[38;5;21;01minspect\u001b[39;00m\n\u001b[0;32m      5\u001b[0m \u001b[38;5;28;01mimport\u001b[39;00m \u001b[38;5;21;01mitertools\u001b[39;00m\n\u001b[0;32m      6\u001b[0m \u001b[38;5;28;01mimport\u001b[39;00m \u001b[38;5;21;01mre\u001b[39;00m\n",
      "File \u001b[1;32mc:\\Users\\56931\\anaconda3\\Lib\\site-packages\\networkx\\algorithms\\centrality\\eigenvector.py:107\u001b[0m, in \u001b[0;36meigenvector_centrality\u001b[1;34m(G, max_iter, tol, nstart, weight)\u001b[0m\n\u001b[0;32m     13\u001b[0m \u001b[38;5;250m\u001b[39m\u001b[38;5;124mr\u001b[39m\u001b[38;5;124;03m\"\"\"Compute the eigenvector centrality for the graph `G`.\u001b[39;00m\n\u001b[0;32m     14\u001b[0m \n\u001b[0;32m     15\u001b[0m \u001b[38;5;124;03mEigenvector centrality computes the centrality for a node based on the\u001b[39;00m\n\u001b[1;32m   (...)\u001b[0m\n\u001b[0;32m    104\u001b[0m \n\u001b[0;32m    105\u001b[0m \u001b[38;5;124;03m\"\"\"\u001b[39;00m\n\u001b[0;32m    106\u001b[0m \u001b[38;5;28;01mif\u001b[39;00m \u001b[38;5;28mlen\u001b[39m(G) \u001b[38;5;241m==\u001b[39m \u001b[38;5;241m0\u001b[39m:\n\u001b[1;32m--> 107\u001b[0m     \u001b[38;5;28;01mraise\u001b[39;00m nx\u001b[38;5;241m.\u001b[39mNetworkXPointlessConcept(\n\u001b[0;32m    108\u001b[0m         \u001b[38;5;124m\"\u001b[39m\u001b[38;5;124mcannot compute centrality for the null graph\u001b[39m\u001b[38;5;124m\"\u001b[39m\n\u001b[0;32m    109\u001b[0m     )\n\u001b[0;32m    110\u001b[0m \u001b[38;5;66;03m# If no initial vector is provided, start with the all-ones vector.\u001b[39;00m\n\u001b[0;32m    111\u001b[0m \u001b[38;5;28;01mif\u001b[39;00m nstart \u001b[38;5;129;01mis\u001b[39;00m \u001b[38;5;28;01mNone\u001b[39;00m:\n",
      "\u001b[1;31mNetworkXPointlessConcept\u001b[0m: cannot compute centrality for the null graph"
     ]
    }
   ],
   "source": [
    "dfe2018 = dfe[dfe['Publication Year']==2018].copy()\n",
    "dfe2018['Instituciones'] = dfe2018['Affiliations'].str.split(';', expand=False)\n",
    "dfe2018['Instituciones'] = dfe2018['Instituciones'].apply(lambda inst: [i.strip() for i in inst])\n",
    "\n",
    "all_inst = set()\n",
    "for inst in dfe2018['Instituciones']:\n",
    "    all_inst.update(inst)\n",
    "all_inst = sorted(list(all_inst))\n",
    "adj_matrix = pd.DataFrame(0, index=all_inst, columns=all_inst)\n",
    "for countries in dfe2018['Instituciones']:\n",
    "    countries = sorted(countries)\n",
    "    for i in range(len(countries)):\n",
    "        for j in range(i+1, len(countries)):\n",
    "            adj_matrix.loc[countries[i], countries[j]] += 1\n",
    "            adj_matrix.loc[countries[j], countries[i]] += 1\n",
    "adj = adj_matrix.to_numpy()\n",
    "adj = adj.astype(float)\n",
    "\n",
    "graph2018 = nx.Graph()\n",
    "\n",
    "for countries in dfe2018['Instituciones']:\n",
    "    countries = sorted(countries)\n",
    "    for i in range(len(countries)):\n",
    "        for j in range(i + 1, len(countries)):\n",
    "            if countries[i] != countries[j]:  # Agregar esta condición para evitar bucles\n",
    "                graph2018.add_edge(countries[i], countries[j], weight=adj[all_inst.index(countries[i])][all_inst.index(countries[j])])\n",
    "\n",
    "c = nx.algorithms.degree_centrality(graph2018)\n",
    "nx.set_node_attributes(graph2018, c, 'betweenness')\n",
    "\n",
    "\n",
    "labels = {node: node for node in graph2018.nodes()}\n",
    "fig = gv.d3(graph2018, use_node_size_normalization=True, \n",
    "            node_size_normalization_max = 100,      \n",
    "            use_edge_size_normalization = True, \n",
    "            edge_size_data_source = 'weight', \n",
    "            edge_curvature = 0.4)\n",
    "\n",
    "centr2018 = centralidades(graph2018)\n",
    "cent_grado = centr2018['centralidad'].head(20)\n",
    "centralizacion2018 = centralizacion(graph2018)\n",
    "densidad2018 = nx.density(graph2018)\n",
    "asort2018 = nx.degree_assortativity_coefficient(graph2018)\n",
    "trans2018 = nx.transitivity(graph2018)"
   ]
  },
  {
   "cell_type": "code",
   "execution_count": 11,
   "id": "aa062f16",
   "metadata": {},
   "outputs": [
    {
     "name": "stdout",
     "output_type": "stream",
     "text": [
      "Graph with 0 nodes and 0 edges\n"
     ]
    },
    {
     "ename": "ValueError",
     "evalue": "cutoff must be between 1 and 0. Got 1.",
     "output_type": "error",
     "traceback": [
      "\u001b[1;31m---------------------------------------------------------------------------\u001b[0m",
      "\u001b[1;31mValueError\u001b[0m                                Traceback (most recent call last)",
      "Cell \u001b[1;32mIn[11], line 1\u001b[0m\n\u001b[1;32m----> 1\u001b[0m \u001b[38;5;28mprint\u001b[39m(\u001b[43mpropiedades\u001b[49m\u001b[43m(\u001b[49m\u001b[43mgraph2018\u001b[49m\u001b[43m)\u001b[49m)\n",
      "File \u001b[1;32mc:\\Users\\56931\\Analisis cuantitativo de redes científicas\\Física\\Paises\\functions.py:33\u001b[0m, in \u001b[0;36mpropiedades\u001b[1;34m(x)\u001b[0m\n\u001b[0;32m     31\u001b[0m \u001b[38;5;28;01mdef\u001b[39;00m \u001b[38;5;21mpropiedades\u001b[39m(x):\n\u001b[0;32m     32\u001b[0m     \u001b[38;5;28mprint\u001b[39m(x)\n\u001b[1;32m---> 33\u001b[0m     communities \u001b[38;5;241m=\u001b[39m \u001b[43mnx\u001b[49m\u001b[38;5;241;43m.\u001b[39;49m\u001b[43malgorithms\u001b[49m\u001b[38;5;241;43m.\u001b[39;49m\u001b[43mcommunity\u001b[49m\u001b[38;5;241;43m.\u001b[39;49m\u001b[43mgreedy_modularity_communities\u001b[49m\u001b[43m(\u001b[49m\u001b[43mx\u001b[49m\u001b[43m)\u001b[49m\n\u001b[0;32m     35\u001b[0m     \u001b[38;5;28mprint\u001b[39m(\u001b[38;5;124m\"\u001b[39m\u001b[38;5;124mN de Nodos: \u001b[39m\u001b[38;5;124m\"\u001b[39m, x\u001b[38;5;241m.\u001b[39mnumber_of_nodes())\n\u001b[0;32m     36\u001b[0m     \u001b[38;5;28mprint\u001b[39m(\u001b[38;5;124m\"\u001b[39m\u001b[38;5;124mN de aristas: \u001b[39m\u001b[38;5;124m\"\u001b[39m, x\u001b[38;5;241m.\u001b[39mnumber_of_edges())\n",
      "File \u001b[1;32mc:\\Users\\56931\\anaconda3\\Lib\\site-packages\\networkx\\algorithms\\community\\modularity_max.py:312\u001b[0m, in \u001b[0;36mgreedy_modularity_communities\u001b[1;34m(G, weight, resolution, cutoff, best_n)\u001b[0m\n\u001b[0;32m    233\u001b[0m \u001b[38;5;250m\u001b[39m\u001b[38;5;124mr\u001b[39m\u001b[38;5;124;03m\"\"\"Find communities in G using greedy modularity maximization.\u001b[39;00m\n\u001b[0;32m    234\u001b[0m \n\u001b[0;32m    235\u001b[0m \u001b[38;5;124;03mThis function uses Clauset-Newman-Moore greedy modularity maximization [2]_\u001b[39;00m\n\u001b[1;32m   (...)\u001b[0m\n\u001b[0;32m    309\u001b[0m \u001b[38;5;124;03m   Physical Review E 70(5 Pt 2):056131, 2004.\u001b[39;00m\n\u001b[0;32m    310\u001b[0m \u001b[38;5;124;03m\"\"\"\u001b[39;00m\n\u001b[0;32m    311\u001b[0m \u001b[38;5;28;01mif\u001b[39;00m (cutoff \u001b[38;5;241m<\u001b[39m \u001b[38;5;241m1\u001b[39m) \u001b[38;5;129;01mor\u001b[39;00m (cutoff \u001b[38;5;241m>\u001b[39m G\u001b[38;5;241m.\u001b[39mnumber_of_nodes()):\n\u001b[1;32m--> 312\u001b[0m     \u001b[38;5;28;01mraise\u001b[39;00m \u001b[38;5;167;01mValueError\u001b[39;00m(\u001b[38;5;124mf\u001b[39m\u001b[38;5;124m\"\u001b[39m\u001b[38;5;124mcutoff must be between 1 and \u001b[39m\u001b[38;5;132;01m{\u001b[39;00m\u001b[38;5;28mlen\u001b[39m(G)\u001b[38;5;132;01m}\u001b[39;00m\u001b[38;5;124m. Got \u001b[39m\u001b[38;5;132;01m{\u001b[39;00mcutoff\u001b[38;5;132;01m}\u001b[39;00m\u001b[38;5;124m.\u001b[39m\u001b[38;5;124m\"\u001b[39m)\n\u001b[0;32m    313\u001b[0m \u001b[38;5;28;01mif\u001b[39;00m best_n \u001b[38;5;129;01mis\u001b[39;00m \u001b[38;5;129;01mnot\u001b[39;00m \u001b[38;5;28;01mNone\u001b[39;00m:\n\u001b[0;32m    314\u001b[0m     \u001b[38;5;28;01mif\u001b[39;00m (best_n \u001b[38;5;241m<\u001b[39m \u001b[38;5;241m1\u001b[39m) \u001b[38;5;129;01mor\u001b[39;00m (best_n \u001b[38;5;241m>\u001b[39m G\u001b[38;5;241m.\u001b[39mnumber_of_nodes()):\n",
      "\u001b[1;31mValueError\u001b[0m: cutoff must be between 1 and 0. Got 1."
     ]
    }
   ],
   "source": [
    "print(propiedades(graph2018))"
   ]
  },
  {
   "cell_type": "markdown",
   "id": "a1990968",
   "metadata": {},
   "source": [
    "### 2019"
   ]
  },
  {
   "cell_type": "code",
   "execution_count": 12,
   "id": "53ff3811",
   "metadata": {},
   "outputs": [
    {
     "ename": "ZeroDivisionError",
     "evalue": "float division by zero",
     "output_type": "error",
     "traceback": [
      "\u001b[1;31m---------------------------------------------------------------------------\u001b[0m",
      "\u001b[1;31mZeroDivisionError\u001b[0m                         Traceback (most recent call last)",
      "Cell \u001b[1;32mIn[12], line 41\u001b[0m\n\u001b[0;32m     39\u001b[0m centr2019 \u001b[38;5;241m=\u001b[39m centralidades(graph2019)\n\u001b[0;32m     40\u001b[0m cent_grado \u001b[38;5;241m=\u001b[39m centr2019[\u001b[38;5;124m'\u001b[39m\u001b[38;5;124mcentralidad\u001b[39m\u001b[38;5;124m'\u001b[39m]\u001b[38;5;241m.\u001b[39mhead(\u001b[38;5;241m20\u001b[39m)\n\u001b[1;32m---> 41\u001b[0m centralizacion2019 \u001b[38;5;241m=\u001b[39m \u001b[43mcentralizacion\u001b[49m\u001b[43m(\u001b[49m\u001b[43mgraph2019\u001b[49m\u001b[43m)\u001b[49m\n\u001b[0;32m     42\u001b[0m densidad2019 \u001b[38;5;241m=\u001b[39m nx\u001b[38;5;241m.\u001b[39mdensity(graph2019)\n\u001b[0;32m     43\u001b[0m asort2019 \u001b[38;5;241m=\u001b[39m nx\u001b[38;5;241m.\u001b[39mdegree_assortativity_coefficient(graph2019)\n",
      "File \u001b[1;32mc:\\Users\\56931\\Analisis cuantitativo de redes científicas\\Física\\Paises\\functions.py:27\u001b[0m, in \u001b[0;36mcentralizacion\u001b[1;34m(grafo)\u001b[0m\n\u001b[0;32m     25\u001b[0m k_max \u001b[38;5;241m=\u001b[39m \u001b[38;5;28mmax\u001b[39m(grados)\n\u001b[0;32m     26\u001b[0m N \u001b[38;5;241m=\u001b[39m \u001b[38;5;28mlen\u001b[39m(grados)\n\u001b[1;32m---> 27\u001b[0m C_grado \u001b[38;5;241m=\u001b[39m \u001b[38;5;28;43msum\u001b[39;49m\u001b[43m(\u001b[49m\u001b[43m[\u001b[49m\u001b[43mk_max\u001b[49m\u001b[43m \u001b[49m\u001b[38;5;241;43m-\u001b[39;49m\u001b[43m \u001b[49m\u001b[43mk_i\u001b[49m\u001b[43m \u001b[49m\u001b[38;5;28;43;01mfor\u001b[39;49;00m\u001b[43m \u001b[49m\u001b[43mk_i\u001b[49m\u001b[43m \u001b[49m\u001b[38;5;129;43;01min\u001b[39;49;00m\u001b[43m \u001b[49m\u001b[43mgrados\u001b[49m\u001b[43m]\u001b[49m\u001b[43m)\u001b[49m\u001b[43m \u001b[49m\u001b[38;5;241;43m/\u001b[39;49m\u001b[43m \u001b[49m\u001b[43m(\u001b[49m\u001b[43m(\u001b[49m\u001b[43mN\u001b[49m\u001b[43m \u001b[49m\u001b[38;5;241;43m-\u001b[39;49m\u001b[43m \u001b[49m\u001b[38;5;241;43m1\u001b[39;49m\u001b[43m)\u001b[49m\u001b[43m \u001b[49m\u001b[38;5;241;43m*\u001b[39;49m\u001b[43m \u001b[49m\u001b[43m(\u001b[49m\u001b[43mN\u001b[49m\u001b[43m \u001b[49m\u001b[38;5;241;43m-\u001b[39;49m\u001b[43m \u001b[49m\u001b[38;5;241;43m2\u001b[39;49m\u001b[43m)\u001b[49m\u001b[43m)\u001b[49m\n\u001b[0;32m     29\u001b[0m \u001b[38;5;28;01mreturn\u001b[39;00m C_grado\n",
      "\u001b[1;31mZeroDivisionError\u001b[0m: float division by zero"
     ]
    }
   ],
   "source": [
    "dfe2019 = dfe[dfe['Publication Year'] == 2019].copy()\n",
    "dfe2019['Instituciones'] = dfe2019['Affiliations'].str.split(';', expand=False)\n",
    "dfe2019['Instituciones'] = dfe2019['Instituciones'].apply(lambda inst: [i.strip() for i in inst])\n",
    "\n",
    "all_inst = set()\n",
    "for inst in dfe2019['Instituciones']:\n",
    "    all_inst.update(inst)\n",
    "all_inst = sorted(list(all_inst))\n",
    "adj_matrix = pd.DataFrame(0, index=all_inst, columns=all_inst)\n",
    "for countries in dfe2019['Instituciones']:\n",
    "    countries = sorted(countries)\n",
    "    for i in range(len(countries)):\n",
    "        for j in range(i+1, len(countries)):\n",
    "            adj_matrix.loc[countries[i], countries[j]] += 1\n",
    "            adj_matrix.loc[countries[j], countries[i]] += 1\n",
    "adj = adj_matrix.to_numpy()\n",
    "adj = adj.astype(float)\n",
    "\n",
    "graph2019 = nx.Graph()\n",
    "\n",
    "for countries in dfe2019['Instituciones']:\n",
    "    countries = sorted(countries)\n",
    "    for i in range(len(countries)):\n",
    "        for j in range(i + 1, len(countries)):\n",
    "            if countries[i] != countries[j]:  # Agregar esta condición para evitar bucles\n",
    "                graph2019.add_edge(countries[i], countries[j], weight=adj[all_inst.index(countries[i])][all_inst.index(countries[j])])\n",
    "\n",
    "c = nx.algorithms.degree_centrality(graph2019)\n",
    "nx.set_node_attributes(graph2019, c, 'betweenness')\n",
    "\n",
    "\n",
    "labels = {node: node for node in graph2019.nodes()}\n",
    "fig = gv.d3(graph2019, use_node_size_normalization=True, \n",
    "            node_size_normalization_max = 100,      \n",
    "            use_edge_size_normalization = True, \n",
    "            edge_size_data_source = 'weight', \n",
    "            edge_curvature = 0.4)\n",
    "\n",
    "centr2019 = centralidades(graph2019)\n",
    "cent_grado = centr2019['centralidad'].head(20)\n",
    "centralizacion2019 = centralizacion(graph2019)\n",
    "densidad2019 = nx.density(graph2019)\n",
    "asort2019 = nx.degree_assortativity_coefficient(graph2019)\n",
    "trans2019 = nx.transitivity(graph2019)"
   ]
  },
  {
   "cell_type": "code",
   "execution_count": 13,
   "id": "f25475c9",
   "metadata": {},
   "outputs": [
    {
     "name": "stdout",
     "output_type": "stream",
     "text": [
      "Graph with 2 nodes and 1 edges\n",
      "N de Nodos:  2\n",
      "N de aristas:  1\n",
      "Es direccionado:  False\n",
      "Transitividad 0\n"
     ]
    },
    {
     "ename": "ZeroDivisionError",
     "evalue": "float division by zero",
     "output_type": "error",
     "traceback": [
      "\u001b[1;31m---------------------------------------------------------------------------\u001b[0m",
      "\u001b[1;31mZeroDivisionError\u001b[0m                         Traceback (most recent call last)",
      "Cell \u001b[1;32mIn[13], line 1\u001b[0m\n\u001b[1;32m----> 1\u001b[0m \u001b[38;5;28mprint\u001b[39m(\u001b[43mpropiedades\u001b[49m\u001b[43m(\u001b[49m\u001b[43mgraph2019\u001b[49m\u001b[43m)\u001b[49m)\n",
      "File \u001b[1;32mc:\\Users\\56931\\Analisis cuantitativo de redes científicas\\Física\\Paises\\functions.py:39\u001b[0m, in \u001b[0;36mpropiedades\u001b[1;34m(x)\u001b[0m\n\u001b[0;32m     37\u001b[0m \u001b[38;5;28mprint\u001b[39m(\u001b[38;5;124m\"\u001b[39m\u001b[38;5;124mEs direccionado: \u001b[39m\u001b[38;5;124m\"\u001b[39m , nx\u001b[38;5;241m.\u001b[39mis_directed(x))\n\u001b[0;32m     38\u001b[0m \u001b[38;5;28mprint\u001b[39m(\u001b[38;5;124m\"\u001b[39m\u001b[38;5;124mTransitividad\u001b[39m\u001b[38;5;124m\"\u001b[39m, nx\u001b[38;5;241m.\u001b[39mtransitivity(x))\n\u001b[1;32m---> 39\u001b[0m \u001b[38;5;28mprint\u001b[39m(\u001b[38;5;124m\"\u001b[39m\u001b[38;5;124mCentralización \u001b[39m\u001b[38;5;124m\"\u001b[39m, \u001b[43mcentralizacion\u001b[49m\u001b[43m(\u001b[49m\u001b[43mx\u001b[49m\u001b[43m)\u001b[49m)\n\u001b[0;32m     40\u001b[0m \u001b[38;5;28mprint\u001b[39m(\u001b[38;5;124m\"\u001b[39m\u001b[38;5;124mTiene: \u001b[39m\u001b[38;5;124m\"\u001b[39m, \u001b[38;5;28mlen\u001b[39m(communities), \u001b[38;5;124m'\u001b[39m\u001b[38;5;124mcomunidades\u001b[39m\u001b[38;5;124m'\u001b[39m)\n\u001b[0;32m     41\u001b[0m \u001b[38;5;28mprint\u001b[39m(communities)\n",
      "File \u001b[1;32mc:\\Users\\56931\\Analisis cuantitativo de redes científicas\\Física\\Paises\\functions.py:27\u001b[0m, in \u001b[0;36mcentralizacion\u001b[1;34m(grafo)\u001b[0m\n\u001b[0;32m     25\u001b[0m k_max \u001b[38;5;241m=\u001b[39m \u001b[38;5;28mmax\u001b[39m(grados)\n\u001b[0;32m     26\u001b[0m N \u001b[38;5;241m=\u001b[39m \u001b[38;5;28mlen\u001b[39m(grados)\n\u001b[1;32m---> 27\u001b[0m C_grado \u001b[38;5;241m=\u001b[39m \u001b[38;5;28;43msum\u001b[39;49m\u001b[43m(\u001b[49m\u001b[43m[\u001b[49m\u001b[43mk_max\u001b[49m\u001b[43m \u001b[49m\u001b[38;5;241;43m-\u001b[39;49m\u001b[43m \u001b[49m\u001b[43mk_i\u001b[49m\u001b[43m \u001b[49m\u001b[38;5;28;43;01mfor\u001b[39;49;00m\u001b[43m \u001b[49m\u001b[43mk_i\u001b[49m\u001b[43m \u001b[49m\u001b[38;5;129;43;01min\u001b[39;49;00m\u001b[43m \u001b[49m\u001b[43mgrados\u001b[49m\u001b[43m]\u001b[49m\u001b[43m)\u001b[49m\u001b[43m \u001b[49m\u001b[38;5;241;43m/\u001b[39;49m\u001b[43m \u001b[49m\u001b[43m(\u001b[49m\u001b[43m(\u001b[49m\u001b[43mN\u001b[49m\u001b[43m \u001b[49m\u001b[38;5;241;43m-\u001b[39;49m\u001b[43m \u001b[49m\u001b[38;5;241;43m1\u001b[39;49m\u001b[43m)\u001b[49m\u001b[43m \u001b[49m\u001b[38;5;241;43m*\u001b[39;49m\u001b[43m \u001b[49m\u001b[43m(\u001b[49m\u001b[43mN\u001b[49m\u001b[43m \u001b[49m\u001b[38;5;241;43m-\u001b[39;49m\u001b[43m \u001b[49m\u001b[38;5;241;43m2\u001b[39;49m\u001b[43m)\u001b[49m\u001b[43m)\u001b[49m\n\u001b[0;32m     29\u001b[0m \u001b[38;5;28;01mreturn\u001b[39;00m C_grado\n",
      "\u001b[1;31mZeroDivisionError\u001b[0m: float division by zero"
     ]
    }
   ],
   "source": [
    "print(propiedades(graph2019))"
   ]
  },
  {
   "cell_type": "markdown",
   "id": "fefe5559",
   "metadata": {},
   "source": [
    "### 2020"
   ]
  },
  {
   "cell_type": "code",
   "execution_count": 14,
   "id": "cbf81fba",
   "metadata": {},
   "outputs": [
    {
     "ename": "ZeroDivisionError",
     "evalue": "float division by zero",
     "output_type": "error",
     "traceback": [
      "\u001b[1;31m---------------------------------------------------------------------------\u001b[0m",
      "\u001b[1;31mZeroDivisionError\u001b[0m                         Traceback (most recent call last)",
      "Cell \u001b[1;32mIn[14], line 41\u001b[0m\n\u001b[0;32m     39\u001b[0m centr2020 \u001b[38;5;241m=\u001b[39m centralidades(graph2020)\n\u001b[0;32m     40\u001b[0m cent_grado \u001b[38;5;241m=\u001b[39m centr2020[\u001b[38;5;124m'\u001b[39m\u001b[38;5;124mcentralidad\u001b[39m\u001b[38;5;124m'\u001b[39m]\u001b[38;5;241m.\u001b[39mhead(\u001b[38;5;241m20\u001b[39m)\n\u001b[1;32m---> 41\u001b[0m centralizacion2020 \u001b[38;5;241m=\u001b[39m \u001b[43mcentralizacion\u001b[49m\u001b[43m(\u001b[49m\u001b[43mgraph2020\u001b[49m\u001b[43m)\u001b[49m\n\u001b[0;32m     42\u001b[0m densidad2020 \u001b[38;5;241m=\u001b[39m nx\u001b[38;5;241m.\u001b[39mdensity(graph2020)\n\u001b[0;32m     43\u001b[0m asort2020 \u001b[38;5;241m=\u001b[39m nx\u001b[38;5;241m.\u001b[39mdegree_assortativity_coefficient(graph2020)\n",
      "File \u001b[1;32mc:\\Users\\56931\\Analisis cuantitativo de redes científicas\\Física\\Paises\\functions.py:27\u001b[0m, in \u001b[0;36mcentralizacion\u001b[1;34m(grafo)\u001b[0m\n\u001b[0;32m     25\u001b[0m k_max \u001b[38;5;241m=\u001b[39m \u001b[38;5;28mmax\u001b[39m(grados)\n\u001b[0;32m     26\u001b[0m N \u001b[38;5;241m=\u001b[39m \u001b[38;5;28mlen\u001b[39m(grados)\n\u001b[1;32m---> 27\u001b[0m C_grado \u001b[38;5;241m=\u001b[39m \u001b[38;5;28;43msum\u001b[39;49m\u001b[43m(\u001b[49m\u001b[43m[\u001b[49m\u001b[43mk_max\u001b[49m\u001b[43m \u001b[49m\u001b[38;5;241;43m-\u001b[39;49m\u001b[43m \u001b[49m\u001b[43mk_i\u001b[49m\u001b[43m \u001b[49m\u001b[38;5;28;43;01mfor\u001b[39;49;00m\u001b[43m \u001b[49m\u001b[43mk_i\u001b[49m\u001b[43m \u001b[49m\u001b[38;5;129;43;01min\u001b[39;49;00m\u001b[43m \u001b[49m\u001b[43mgrados\u001b[49m\u001b[43m]\u001b[49m\u001b[43m)\u001b[49m\u001b[43m \u001b[49m\u001b[38;5;241;43m/\u001b[39;49m\u001b[43m \u001b[49m\u001b[43m(\u001b[49m\u001b[43m(\u001b[49m\u001b[43mN\u001b[49m\u001b[43m \u001b[49m\u001b[38;5;241;43m-\u001b[39;49m\u001b[43m \u001b[49m\u001b[38;5;241;43m1\u001b[39;49m\u001b[43m)\u001b[49m\u001b[43m \u001b[49m\u001b[38;5;241;43m*\u001b[39;49m\u001b[43m \u001b[49m\u001b[43m(\u001b[49m\u001b[43mN\u001b[49m\u001b[43m \u001b[49m\u001b[38;5;241;43m-\u001b[39;49m\u001b[43m \u001b[49m\u001b[38;5;241;43m2\u001b[39;49m\u001b[43m)\u001b[49m\u001b[43m)\u001b[49m\n\u001b[0;32m     29\u001b[0m \u001b[38;5;28;01mreturn\u001b[39;00m C_grado\n",
      "\u001b[1;31mZeroDivisionError\u001b[0m: float division by zero"
     ]
    }
   ],
   "source": [
    "dfe2020 = dfe[dfe['Publication Year']==2020].copy()\n",
    "dfe2020['Instituciones'] = dfe2020['Affiliations'].str.split(';', expand=False)\n",
    "dfe2020['Instituciones'] = dfe2020['Instituciones'].apply(lambda inst: [i.strip() for i in inst])\n",
    "\n",
    "all_inst = set()\n",
    "for inst in dfe2020['Instituciones']:\n",
    "    all_inst.update(inst)\n",
    "all_inst = sorted(list(all_inst))\n",
    "adj_matrix = pd.DataFrame(0, index=all_inst, columns=all_inst)\n",
    "for countries in dfe2020['Instituciones']:\n",
    "    countries = sorted(countries)\n",
    "    for i in range(len(countries)):\n",
    "        for j in range(i+1, len(countries)):\n",
    "            adj_matrix.loc[countries[i], countries[j]] += 1\n",
    "            adj_matrix.loc[countries[j], countries[i]] += 1\n",
    "adj = adj_matrix.to_numpy()\n",
    "adj = adj.astype(float)\n",
    "\n",
    "graph2020 = nx.Graph()\n",
    "\n",
    "for countries in dfe2020['Instituciones']:\n",
    "    countries = sorted(countries)\n",
    "    for i in range(len(countries)):\n",
    "        for j in range(i + 1, len(countries)):\n",
    "            if countries[i] != countries[j]:  # Agregar esta condición para evitar bucles\n",
    "                graph2020.add_edge(countries[i], countries[j], weight=adj[all_inst.index(countries[i])][all_inst.index(countries[j])])\n",
    "\n",
    "c = nx.algorithms.degree_centrality(graph2020)\n",
    "nx.set_node_attributes(graph2020, c, 'betweenness')\n",
    "\n",
    "\n",
    "labels = {node: node for node in graph2020.nodes()}\n",
    "fig = gv.d3(graph2020, use_node_size_normalization=True, \n",
    "            node_size_normalization_max = 100,      \n",
    "            use_edge_size_normalization = True, \n",
    "            edge_size_data_source = 'weight', \n",
    "            edge_curvature = 0.4)\n",
    "\n",
    "centr2020 = centralidades(graph2020)\n",
    "cent_grado = centr2020['centralidad'].head(20)\n",
    "centralizacion2020 = centralizacion(graph2020)\n",
    "densidad2020 = nx.density(graph2020)\n",
    "asort2020 = nx.degree_assortativity_coefficient(graph2020)\n",
    "trans2020 = nx.transitivity(graph2020)"
   ]
  },
  {
   "cell_type": "code",
   "execution_count": 15,
   "id": "9e6844bb",
   "metadata": {},
   "outputs": [
    {
     "name": "stdout",
     "output_type": "stream",
     "text": [
      "Graph with 2 nodes and 1 edges\n",
      "N de Nodos:  2\n",
      "N de aristas:  1\n",
      "Es direccionado:  False\n",
      "Transitividad 0\n"
     ]
    },
    {
     "ename": "ZeroDivisionError",
     "evalue": "float division by zero",
     "output_type": "error",
     "traceback": [
      "\u001b[1;31m---------------------------------------------------------------------------\u001b[0m",
      "\u001b[1;31mZeroDivisionError\u001b[0m                         Traceback (most recent call last)",
      "Cell \u001b[1;32mIn[15], line 1\u001b[0m\n\u001b[1;32m----> 1\u001b[0m \u001b[38;5;28mprint\u001b[39m(\u001b[43mpropiedades\u001b[49m\u001b[43m(\u001b[49m\u001b[43mgraph2020\u001b[49m\u001b[43m)\u001b[49m)\n",
      "File \u001b[1;32mc:\\Users\\56931\\Analisis cuantitativo de redes científicas\\Física\\Paises\\functions.py:39\u001b[0m, in \u001b[0;36mpropiedades\u001b[1;34m(x)\u001b[0m\n\u001b[0;32m     37\u001b[0m \u001b[38;5;28mprint\u001b[39m(\u001b[38;5;124m\"\u001b[39m\u001b[38;5;124mEs direccionado: \u001b[39m\u001b[38;5;124m\"\u001b[39m , nx\u001b[38;5;241m.\u001b[39mis_directed(x))\n\u001b[0;32m     38\u001b[0m \u001b[38;5;28mprint\u001b[39m(\u001b[38;5;124m\"\u001b[39m\u001b[38;5;124mTransitividad\u001b[39m\u001b[38;5;124m\"\u001b[39m, nx\u001b[38;5;241m.\u001b[39mtransitivity(x))\n\u001b[1;32m---> 39\u001b[0m \u001b[38;5;28mprint\u001b[39m(\u001b[38;5;124m\"\u001b[39m\u001b[38;5;124mCentralización \u001b[39m\u001b[38;5;124m\"\u001b[39m, \u001b[43mcentralizacion\u001b[49m\u001b[43m(\u001b[49m\u001b[43mx\u001b[49m\u001b[43m)\u001b[49m)\n\u001b[0;32m     40\u001b[0m \u001b[38;5;28mprint\u001b[39m(\u001b[38;5;124m\"\u001b[39m\u001b[38;5;124mTiene: \u001b[39m\u001b[38;5;124m\"\u001b[39m, \u001b[38;5;28mlen\u001b[39m(communities), \u001b[38;5;124m'\u001b[39m\u001b[38;5;124mcomunidades\u001b[39m\u001b[38;5;124m'\u001b[39m)\n\u001b[0;32m     41\u001b[0m \u001b[38;5;28mprint\u001b[39m(communities)\n",
      "File \u001b[1;32mc:\\Users\\56931\\Analisis cuantitativo de redes científicas\\Física\\Paises\\functions.py:27\u001b[0m, in \u001b[0;36mcentralizacion\u001b[1;34m(grafo)\u001b[0m\n\u001b[0;32m     25\u001b[0m k_max \u001b[38;5;241m=\u001b[39m \u001b[38;5;28mmax\u001b[39m(grados)\n\u001b[0;32m     26\u001b[0m N \u001b[38;5;241m=\u001b[39m \u001b[38;5;28mlen\u001b[39m(grados)\n\u001b[1;32m---> 27\u001b[0m C_grado \u001b[38;5;241m=\u001b[39m \u001b[38;5;28;43msum\u001b[39;49m\u001b[43m(\u001b[49m\u001b[43m[\u001b[49m\u001b[43mk_max\u001b[49m\u001b[43m \u001b[49m\u001b[38;5;241;43m-\u001b[39;49m\u001b[43m \u001b[49m\u001b[43mk_i\u001b[49m\u001b[43m \u001b[49m\u001b[38;5;28;43;01mfor\u001b[39;49;00m\u001b[43m \u001b[49m\u001b[43mk_i\u001b[49m\u001b[43m \u001b[49m\u001b[38;5;129;43;01min\u001b[39;49;00m\u001b[43m \u001b[49m\u001b[43mgrados\u001b[49m\u001b[43m]\u001b[49m\u001b[43m)\u001b[49m\u001b[43m \u001b[49m\u001b[38;5;241;43m/\u001b[39;49m\u001b[43m \u001b[49m\u001b[43m(\u001b[49m\u001b[43m(\u001b[49m\u001b[43mN\u001b[49m\u001b[43m \u001b[49m\u001b[38;5;241;43m-\u001b[39;49m\u001b[43m \u001b[49m\u001b[38;5;241;43m1\u001b[39;49m\u001b[43m)\u001b[49m\u001b[43m \u001b[49m\u001b[38;5;241;43m*\u001b[39;49m\u001b[43m \u001b[49m\u001b[43m(\u001b[49m\u001b[43mN\u001b[49m\u001b[43m \u001b[49m\u001b[38;5;241;43m-\u001b[39;49m\u001b[43m \u001b[49m\u001b[38;5;241;43m2\u001b[39;49m\u001b[43m)\u001b[49m\u001b[43m)\u001b[49m\n\u001b[0;32m     29\u001b[0m \u001b[38;5;28;01mreturn\u001b[39;00m C_grado\n",
      "\u001b[1;31mZeroDivisionError\u001b[0m: float division by zero"
     ]
    }
   ],
   "source": [
    "print(propiedades(graph2020))"
   ]
  },
  {
   "cell_type": "markdown",
   "id": "36e2f0e8",
   "metadata": {},
   "source": [
    "### 2021\n"
   ]
  },
  {
   "cell_type": "code",
   "execution_count": 16,
   "id": "6094b4da",
   "metadata": {},
   "outputs": [
    {
     "ename": "NetworkXPointlessConcept",
     "evalue": "cannot compute centrality for the null graph",
     "output_type": "error",
     "traceback": [
      "\u001b[1;31m---------------------------------------------------------------------------\u001b[0m",
      "\u001b[1;31mNetworkXPointlessConcept\u001b[0m                  Traceback (most recent call last)",
      "Cell \u001b[1;32mIn[16], line 39\u001b[0m\n\u001b[0;32m     32\u001b[0m labels \u001b[38;5;241m=\u001b[39m {node: node \u001b[38;5;28;01mfor\u001b[39;00m node \u001b[38;5;129;01min\u001b[39;00m graph2021\u001b[38;5;241m.\u001b[39mnodes()}\n\u001b[0;32m     33\u001b[0m fig \u001b[38;5;241m=\u001b[39m gv\u001b[38;5;241m.\u001b[39md3(graph2021, use_node_size_normalization\u001b[38;5;241m=\u001b[39m\u001b[38;5;28;01mTrue\u001b[39;00m, \n\u001b[0;32m     34\u001b[0m             node_size_normalization_max \u001b[38;5;241m=\u001b[39m \u001b[38;5;241m100\u001b[39m,      \n\u001b[0;32m     35\u001b[0m             use_edge_size_normalization \u001b[38;5;241m=\u001b[39m \u001b[38;5;28;01mTrue\u001b[39;00m, \n\u001b[0;32m     36\u001b[0m             edge_size_data_source \u001b[38;5;241m=\u001b[39m \u001b[38;5;124m'\u001b[39m\u001b[38;5;124mweight\u001b[39m\u001b[38;5;124m'\u001b[39m, \n\u001b[0;32m     37\u001b[0m             edge_curvature \u001b[38;5;241m=\u001b[39m \u001b[38;5;241m0.4\u001b[39m)\n\u001b[1;32m---> 39\u001b[0m centr2021 \u001b[38;5;241m=\u001b[39m \u001b[43mcentralidades\u001b[49m\u001b[43m(\u001b[49m\u001b[43mgraph2021\u001b[49m\u001b[43m)\u001b[49m\n\u001b[0;32m     40\u001b[0m cent_grado \u001b[38;5;241m=\u001b[39m centr2021[\u001b[38;5;124m'\u001b[39m\u001b[38;5;124mcentralidad\u001b[39m\u001b[38;5;124m'\u001b[39m]\u001b[38;5;241m.\u001b[39mhead(\u001b[38;5;241m20\u001b[39m)\n\u001b[0;32m     41\u001b[0m centralizacion2021 \u001b[38;5;241m=\u001b[39m centralizacion(graph2021)\n",
      "File \u001b[1;32mc:\\Users\\56931\\Analisis cuantitativo de redes científicas\\Física\\Paises\\functions.py:66\u001b[0m, in \u001b[0;36mcentralidades\u001b[1;34m(grafo)\u001b[0m\n\u001b[0;32m     63\u001b[0m metricas[\u001b[38;5;124m\"\u001b[39m\u001b[38;5;124mcercania\u001b[39m\u001b[38;5;124m\"\u001b[39m] \u001b[38;5;241m=\u001b[39m cercania\n\u001b[0;32m     65\u001b[0m \u001b[38;5;66;03m#Centralidad de Vector Propio\u001b[39;00m\n\u001b[1;32m---> 66\u001b[0m eigen_cen \u001b[38;5;241m=\u001b[39m \u001b[43mnx\u001b[49m\u001b[38;5;241;43m.\u001b[39;49m\u001b[43meigenvector_centrality\u001b[49m\u001b[43m(\u001b[49m\u001b[43mgrafo\u001b[49m\u001b[43m)\u001b[49m\n\u001b[0;32m     67\u001b[0m eigen \u001b[38;5;241m=\u001b[39m pd\u001b[38;5;241m.\u001b[39mDataFrame(\u001b[38;5;28mlist\u001b[39m(eigen_cen\u001b[38;5;241m.\u001b[39mitems()), columns\u001b[38;5;241m=\u001b[39m[\u001b[38;5;124m'\u001b[39m\u001b[38;5;124mInstitucion\u001b[39m\u001b[38;5;124m'\u001b[39m, \u001b[38;5;124m'\u001b[39m\u001b[38;5;124mCentralidad\u001b[39m\u001b[38;5;124m'\u001b[39m])\n\u001b[0;32m     68\u001b[0m eigen \u001b[38;5;241m=\u001b[39m eigen\u001b[38;5;241m.\u001b[39msort_values(by\u001b[38;5;241m=\u001b[39m\u001b[38;5;124m'\u001b[39m\u001b[38;5;124mCentralidad\u001b[39m\u001b[38;5;124m'\u001b[39m, ascending\u001b[38;5;241m=\u001b[39m\u001b[38;5;28;01mFalse\u001b[39;00m)\n",
      "File \u001b[1;32mc:\\Users\\56931\\anaconda3\\Lib\\site-packages\\networkx\\classes\\backends.py:148\u001b[0m, in \u001b[0;36m_dispatch.<locals>.wrapper\u001b[1;34m(*args, **kwds)\u001b[0m\n\u001b[0;32m    144\u001b[0m         \u001b[38;5;28;01melse\u001b[39;00m:\n\u001b[0;32m    145\u001b[0m             \u001b[38;5;28;01mraise\u001b[39;00m NetworkXNotImplemented(\n\u001b[0;32m    146\u001b[0m                 \u001b[38;5;124mf\u001b[39m\u001b[38;5;124m\"\u001b[39m\u001b[38;5;124m'\u001b[39m\u001b[38;5;132;01m{\u001b[39;00mname\u001b[38;5;132;01m}\u001b[39;00m\u001b[38;5;124m'\u001b[39m\u001b[38;5;124m not implemented by \u001b[39m\u001b[38;5;132;01m{\u001b[39;00mplugin_name\u001b[38;5;132;01m}\u001b[39;00m\u001b[38;5;124m\"\u001b[39m\n\u001b[0;32m    147\u001b[0m             )\n\u001b[1;32m--> 148\u001b[0m \u001b[38;5;28;01mreturn\u001b[39;00m \u001b[43mfunc\u001b[49m\u001b[43m(\u001b[49m\u001b[38;5;241;43m*\u001b[39;49m\u001b[43margs\u001b[49m\u001b[43m,\u001b[49m\u001b[43m \u001b[49m\u001b[38;5;241;43m*\u001b[39;49m\u001b[38;5;241;43m*\u001b[39;49m\u001b[43mkwds\u001b[49m\u001b[43m)\u001b[49m\n",
      "File \u001b[1;32m<class 'networkx.utils.decorators.argmap'> compilation 12:4\u001b[0m, in \u001b[0;36margmap_eigenvector_centrality_9\u001b[1;34m(G, max_iter, tol, nstart, weight)\u001b[0m\n\u001b[0;32m      2\u001b[0m \u001b[38;5;28;01mimport\u001b[39;00m \u001b[38;5;21;01mcollections\u001b[39;00m\n\u001b[0;32m      3\u001b[0m \u001b[38;5;28;01mimport\u001b[39;00m \u001b[38;5;21;01mgzip\u001b[39;00m\n\u001b[1;32m----> 4\u001b[0m \u001b[38;5;28;01mimport\u001b[39;00m \u001b[38;5;21;01minspect\u001b[39;00m\n\u001b[0;32m      5\u001b[0m \u001b[38;5;28;01mimport\u001b[39;00m \u001b[38;5;21;01mitertools\u001b[39;00m\n\u001b[0;32m      6\u001b[0m \u001b[38;5;28;01mimport\u001b[39;00m \u001b[38;5;21;01mre\u001b[39;00m\n",
      "File \u001b[1;32mc:\\Users\\56931\\anaconda3\\Lib\\site-packages\\networkx\\algorithms\\centrality\\eigenvector.py:107\u001b[0m, in \u001b[0;36meigenvector_centrality\u001b[1;34m(G, max_iter, tol, nstart, weight)\u001b[0m\n\u001b[0;32m     13\u001b[0m \u001b[38;5;250m\u001b[39m\u001b[38;5;124mr\u001b[39m\u001b[38;5;124;03m\"\"\"Compute the eigenvector centrality for the graph `G`.\u001b[39;00m\n\u001b[0;32m     14\u001b[0m \n\u001b[0;32m     15\u001b[0m \u001b[38;5;124;03mEigenvector centrality computes the centrality for a node based on the\u001b[39;00m\n\u001b[1;32m   (...)\u001b[0m\n\u001b[0;32m    104\u001b[0m \n\u001b[0;32m    105\u001b[0m \u001b[38;5;124;03m\"\"\"\u001b[39;00m\n\u001b[0;32m    106\u001b[0m \u001b[38;5;28;01mif\u001b[39;00m \u001b[38;5;28mlen\u001b[39m(G) \u001b[38;5;241m==\u001b[39m \u001b[38;5;241m0\u001b[39m:\n\u001b[1;32m--> 107\u001b[0m     \u001b[38;5;28;01mraise\u001b[39;00m nx\u001b[38;5;241m.\u001b[39mNetworkXPointlessConcept(\n\u001b[0;32m    108\u001b[0m         \u001b[38;5;124m\"\u001b[39m\u001b[38;5;124mcannot compute centrality for the null graph\u001b[39m\u001b[38;5;124m\"\u001b[39m\n\u001b[0;32m    109\u001b[0m     )\n\u001b[0;32m    110\u001b[0m \u001b[38;5;66;03m# If no initial vector is provided, start with the all-ones vector.\u001b[39;00m\n\u001b[0;32m    111\u001b[0m \u001b[38;5;28;01mif\u001b[39;00m nstart \u001b[38;5;129;01mis\u001b[39;00m \u001b[38;5;28;01mNone\u001b[39;00m:\n",
      "\u001b[1;31mNetworkXPointlessConcept\u001b[0m: cannot compute centrality for the null graph"
     ]
    }
   ],
   "source": [
    "dfe2021 = dfe[dfe['Publication Year']==2021].copy()\n",
    "dfe2021['Instituciones'] = dfe2021['Affiliations'].str.split(';', expand=False)\n",
    "dfe2021['Instituciones'] = dfe2021['Instituciones'].apply(lambda inst: [i.strip() for i in inst])\n",
    "\n",
    "all_inst = set()\n",
    "for inst in dfe2021['Instituciones']:\n",
    "    all_inst.update(inst)\n",
    "all_inst = sorted(list(all_inst))\n",
    "adj_matrix = pd.DataFrame(0, index=all_inst, columns=all_inst)\n",
    "for countries in dfe2021['Instituciones']:\n",
    "    countries = sorted(countries)\n",
    "    for i in range(len(countries)):\n",
    "        for j in range(i+1, len(countries)):\n",
    "            adj_matrix.loc[countries[i], countries[j]] += 1\n",
    "            adj_matrix.loc[countries[j], countries[i]] += 1\n",
    "adj = adj_matrix.to_numpy()\n",
    "adj = adj.astype(float)\n",
    "\n",
    "graph2021 = nx.Graph()\n",
    "\n",
    "for countries in dfe2021['Instituciones']:\n",
    "    countries = sorted(countries)\n",
    "    for i in range(len(countries)):\n",
    "        for j in range(i + 1, len(countries)):\n",
    "            if countries[i] != countries[j]:  # Agregar esta condición para evitar bucles\n",
    "                graph2021.add_edge(countries[i], countries[j], weight=adj[all_inst.index(countries[i])][all_inst.index(countries[j])])\n",
    "\n",
    "c = nx.algorithms.degree_centrality(graph2021)\n",
    "nx.set_node_attributes(graph2021, c, 'betweenness')\n",
    "\n",
    "\n",
    "labels = {node: node for node in graph2021.nodes()}\n",
    "fig = gv.d3(graph2021, use_node_size_normalization=True, \n",
    "            node_size_normalization_max = 100,      \n",
    "            use_edge_size_normalization = True, \n",
    "            edge_size_data_source = 'weight', \n",
    "            edge_curvature = 0.4)\n",
    "\n",
    "centr2021 = centralidades(graph2021)\n",
    "cent_grado = centr2021['centralidad'].head(20)\n",
    "centralizacion2021 = centralizacion(graph2021)\n",
    "densidad2021 = nx.density(graph2021)\n",
    "asort2021 = nx.degree_assortativity_coefficient(graph2021)\n",
    "trans2021 = nx.transitivity(graph2021)\n"
   ]
  },
  {
   "cell_type": "code",
   "execution_count": 17,
   "id": "815a81d7",
   "metadata": {},
   "outputs": [
    {
     "name": "stdout",
     "output_type": "stream",
     "text": [
      "Graph with 0 nodes and 0 edges\n"
     ]
    },
    {
     "ename": "ValueError",
     "evalue": "cutoff must be between 1 and 0. Got 1.",
     "output_type": "error",
     "traceback": [
      "\u001b[1;31m---------------------------------------------------------------------------\u001b[0m",
      "\u001b[1;31mValueError\u001b[0m                                Traceback (most recent call last)",
      "Cell \u001b[1;32mIn[17], line 1\u001b[0m\n\u001b[1;32m----> 1\u001b[0m \u001b[38;5;28mprint\u001b[39m(\u001b[43mpropiedades\u001b[49m\u001b[43m(\u001b[49m\u001b[43mgraph2021\u001b[49m\u001b[43m)\u001b[49m)\n",
      "File \u001b[1;32mc:\\Users\\56931\\Analisis cuantitativo de redes científicas\\Física\\Paises\\functions.py:33\u001b[0m, in \u001b[0;36mpropiedades\u001b[1;34m(x)\u001b[0m\n\u001b[0;32m     31\u001b[0m \u001b[38;5;28;01mdef\u001b[39;00m \u001b[38;5;21mpropiedades\u001b[39m(x):\n\u001b[0;32m     32\u001b[0m     \u001b[38;5;28mprint\u001b[39m(x)\n\u001b[1;32m---> 33\u001b[0m     communities \u001b[38;5;241m=\u001b[39m \u001b[43mnx\u001b[49m\u001b[38;5;241;43m.\u001b[39;49m\u001b[43malgorithms\u001b[49m\u001b[38;5;241;43m.\u001b[39;49m\u001b[43mcommunity\u001b[49m\u001b[38;5;241;43m.\u001b[39;49m\u001b[43mgreedy_modularity_communities\u001b[49m\u001b[43m(\u001b[49m\u001b[43mx\u001b[49m\u001b[43m)\u001b[49m\n\u001b[0;32m     35\u001b[0m     \u001b[38;5;28mprint\u001b[39m(\u001b[38;5;124m\"\u001b[39m\u001b[38;5;124mN de Nodos: \u001b[39m\u001b[38;5;124m\"\u001b[39m, x\u001b[38;5;241m.\u001b[39mnumber_of_nodes())\n\u001b[0;32m     36\u001b[0m     \u001b[38;5;28mprint\u001b[39m(\u001b[38;5;124m\"\u001b[39m\u001b[38;5;124mN de aristas: \u001b[39m\u001b[38;5;124m\"\u001b[39m, x\u001b[38;5;241m.\u001b[39mnumber_of_edges())\n",
      "File \u001b[1;32mc:\\Users\\56931\\anaconda3\\Lib\\site-packages\\networkx\\algorithms\\community\\modularity_max.py:312\u001b[0m, in \u001b[0;36mgreedy_modularity_communities\u001b[1;34m(G, weight, resolution, cutoff, best_n)\u001b[0m\n\u001b[0;32m    233\u001b[0m \u001b[38;5;250m\u001b[39m\u001b[38;5;124mr\u001b[39m\u001b[38;5;124;03m\"\"\"Find communities in G using greedy modularity maximization.\u001b[39;00m\n\u001b[0;32m    234\u001b[0m \n\u001b[0;32m    235\u001b[0m \u001b[38;5;124;03mThis function uses Clauset-Newman-Moore greedy modularity maximization [2]_\u001b[39;00m\n\u001b[1;32m   (...)\u001b[0m\n\u001b[0;32m    309\u001b[0m \u001b[38;5;124;03m   Physical Review E 70(5 Pt 2):056131, 2004.\u001b[39;00m\n\u001b[0;32m    310\u001b[0m \u001b[38;5;124;03m\"\"\"\u001b[39;00m\n\u001b[0;32m    311\u001b[0m \u001b[38;5;28;01mif\u001b[39;00m (cutoff \u001b[38;5;241m<\u001b[39m \u001b[38;5;241m1\u001b[39m) \u001b[38;5;129;01mor\u001b[39;00m (cutoff \u001b[38;5;241m>\u001b[39m G\u001b[38;5;241m.\u001b[39mnumber_of_nodes()):\n\u001b[1;32m--> 312\u001b[0m     \u001b[38;5;28;01mraise\u001b[39;00m \u001b[38;5;167;01mValueError\u001b[39;00m(\u001b[38;5;124mf\u001b[39m\u001b[38;5;124m\"\u001b[39m\u001b[38;5;124mcutoff must be between 1 and \u001b[39m\u001b[38;5;132;01m{\u001b[39;00m\u001b[38;5;28mlen\u001b[39m(G)\u001b[38;5;132;01m}\u001b[39;00m\u001b[38;5;124m. Got \u001b[39m\u001b[38;5;132;01m{\u001b[39;00mcutoff\u001b[38;5;132;01m}\u001b[39;00m\u001b[38;5;124m.\u001b[39m\u001b[38;5;124m\"\u001b[39m)\n\u001b[0;32m    313\u001b[0m \u001b[38;5;28;01mif\u001b[39;00m best_n \u001b[38;5;129;01mis\u001b[39;00m \u001b[38;5;129;01mnot\u001b[39;00m \u001b[38;5;28;01mNone\u001b[39;00m:\n\u001b[0;32m    314\u001b[0m     \u001b[38;5;28;01mif\u001b[39;00m (best_n \u001b[38;5;241m<\u001b[39m \u001b[38;5;241m1\u001b[39m) \u001b[38;5;129;01mor\u001b[39;00m (best_n \u001b[38;5;241m>\u001b[39m G\u001b[38;5;241m.\u001b[39mnumber_of_nodes()):\n",
      "\u001b[1;31mValueError\u001b[0m: cutoff must be between 1 and 0. Got 1."
     ]
    }
   ],
   "source": [
    "print(propiedades(graph2021))"
   ]
  },
  {
   "cell_type": "markdown",
   "id": "57f2d816",
   "metadata": {},
   "source": [
    "### 2022"
   ]
  },
  {
   "cell_type": "code",
   "execution_count": 18,
   "id": "6d6f980a",
   "metadata": {},
   "outputs": [
    {
     "ename": "ZeroDivisionError",
     "evalue": "float division by zero",
     "output_type": "error",
     "traceback": [
      "\u001b[1;31m---------------------------------------------------------------------------\u001b[0m",
      "\u001b[1;31mZeroDivisionError\u001b[0m                         Traceback (most recent call last)",
      "Cell \u001b[1;32mIn[18], line 42\u001b[0m\n\u001b[0;32m     40\u001b[0m centr2022 \u001b[38;5;241m=\u001b[39m centralidades(graph2022)\n\u001b[0;32m     41\u001b[0m cent_grado \u001b[38;5;241m=\u001b[39m centr2022[\u001b[38;5;124m'\u001b[39m\u001b[38;5;124mcentralidad\u001b[39m\u001b[38;5;124m'\u001b[39m]\u001b[38;5;241m.\u001b[39mhead(\u001b[38;5;241m20\u001b[39m)\n\u001b[1;32m---> 42\u001b[0m centralizacion2022 \u001b[38;5;241m=\u001b[39m \u001b[43mcentralizacion\u001b[49m\u001b[43m(\u001b[49m\u001b[43mgraph2022\u001b[49m\u001b[43m)\u001b[49m\n\u001b[0;32m     43\u001b[0m densidad2022 \u001b[38;5;241m=\u001b[39m nx\u001b[38;5;241m.\u001b[39mdensity(graph2022)\n\u001b[0;32m     44\u001b[0m asort2022 \u001b[38;5;241m=\u001b[39m nx\u001b[38;5;241m.\u001b[39mdegree_assortativity_coefficient(graph2022)\n",
      "File \u001b[1;32mc:\\Users\\56931\\Analisis cuantitativo de redes científicas\\Física\\Paises\\functions.py:27\u001b[0m, in \u001b[0;36mcentralizacion\u001b[1;34m(grafo)\u001b[0m\n\u001b[0;32m     25\u001b[0m k_max \u001b[38;5;241m=\u001b[39m \u001b[38;5;28mmax\u001b[39m(grados)\n\u001b[0;32m     26\u001b[0m N \u001b[38;5;241m=\u001b[39m \u001b[38;5;28mlen\u001b[39m(grados)\n\u001b[1;32m---> 27\u001b[0m C_grado \u001b[38;5;241m=\u001b[39m \u001b[38;5;28;43msum\u001b[39;49m\u001b[43m(\u001b[49m\u001b[43m[\u001b[49m\u001b[43mk_max\u001b[49m\u001b[43m \u001b[49m\u001b[38;5;241;43m-\u001b[39;49m\u001b[43m \u001b[49m\u001b[43mk_i\u001b[49m\u001b[43m \u001b[49m\u001b[38;5;28;43;01mfor\u001b[39;49;00m\u001b[43m \u001b[49m\u001b[43mk_i\u001b[49m\u001b[43m \u001b[49m\u001b[38;5;129;43;01min\u001b[39;49;00m\u001b[43m \u001b[49m\u001b[43mgrados\u001b[49m\u001b[43m]\u001b[49m\u001b[43m)\u001b[49m\u001b[43m \u001b[49m\u001b[38;5;241;43m/\u001b[39;49m\u001b[43m \u001b[49m\u001b[43m(\u001b[49m\u001b[43m(\u001b[49m\u001b[43mN\u001b[49m\u001b[43m \u001b[49m\u001b[38;5;241;43m-\u001b[39;49m\u001b[43m \u001b[49m\u001b[38;5;241;43m1\u001b[39;49m\u001b[43m)\u001b[49m\u001b[43m \u001b[49m\u001b[38;5;241;43m*\u001b[39;49m\u001b[43m \u001b[49m\u001b[43m(\u001b[49m\u001b[43mN\u001b[49m\u001b[43m \u001b[49m\u001b[38;5;241;43m-\u001b[39;49m\u001b[43m \u001b[49m\u001b[38;5;241;43m2\u001b[39;49m\u001b[43m)\u001b[49m\u001b[43m)\u001b[49m\n\u001b[0;32m     29\u001b[0m \u001b[38;5;28;01mreturn\u001b[39;00m C_grado\n",
      "\u001b[1;31mZeroDivisionError\u001b[0m: float division by zero"
     ]
    }
   ],
   "source": [
    "dfe2022 = dfe[dfe['Publication Year']==2022].copy()\n",
    "dfe2022['Instituciones'] = dfe2022['Affiliations'].str.split(';', expand=False)\n",
    "dfe2022['Instituciones'] = dfe2022['Instituciones'].apply(lambda inst: [i.strip() for i in inst])\n",
    "\n",
    "all_inst = set()\n",
    "for inst in dfe2022['Instituciones']:\n",
    "    all_inst.update(inst)\n",
    "all_inst = sorted(list(all_inst))\n",
    "adj_matrix = pd.DataFrame(0, index=all_inst, columns=all_inst)\n",
    "for countries in dfe2022['Instituciones']:\n",
    "    countries = sorted(countries)\n",
    "    for i in range(len(countries)):\n",
    "        for j in range(i+1, len(countries)):\n",
    "            adj_matrix.loc[countries[i], countries[j]] += 1\n",
    "            adj_matrix.loc[countries[j], countries[i]] += 1\n",
    "adj = adj_matrix.to_numpy()\n",
    "adj = adj.astype(float)\n",
    "\n",
    "graph2022 = nx.Graph()\n",
    "\n",
    "for countries in dfe2022['Instituciones']:\n",
    "    countries = sorted(countries)\n",
    "    for i in range(len(countries)):\n",
    "        for j in range(i + 1, len(countries)):\n",
    "            if countries[i] != countries[j]:  # Agregar esta condición para evitar bucles\n",
    "                graph2022.add_edge(countries[i], countries[j], weight=adj[all_inst.index(countries[i])][all_inst.index(countries[j])])\n",
    "\n",
    "c = nx.algorithms.degree_centrality(graph2022)\n",
    "nx.set_node_attributes(graph2022, c, 'betweenness')\n",
    "\n",
    "\n",
    "labels = {node: node for node in graph2022.nodes()}\n",
    "fig = gv.d3(graph2022, use_node_size_normalization=True, \n",
    "            node_size_normalization_max = 100,      \n",
    "            use_edge_size_normalization = True, \n",
    "            edge_size_data_source = 'weight', \n",
    "            edge_curvature = 0.4)\n",
    "\n",
    "\n",
    "centr2022 = centralidades(graph2022)\n",
    "cent_grado = centr2022['centralidad'].head(20)\n",
    "centralizacion2022 = centralizacion(graph2022)\n",
    "densidad2022 = nx.density(graph2022)\n",
    "asort2022 = nx.degree_assortativity_coefficient(graph2022)\n",
    "trans2022 = nx.transitivity(graph2022)"
   ]
  },
  {
   "cell_type": "code",
   "execution_count": 19,
   "id": "6fba4d02",
   "metadata": {},
   "outputs": [
    {
     "name": "stdout",
     "output_type": "stream",
     "text": [
      "Graph with 2 nodes and 1 edges\n",
      "N de Nodos:  2\n",
      "N de aristas:  1\n",
      "Es direccionado:  False\n",
      "Transitividad 0\n"
     ]
    },
    {
     "ename": "ZeroDivisionError",
     "evalue": "float division by zero",
     "output_type": "error",
     "traceback": [
      "\u001b[1;31m---------------------------------------------------------------------------\u001b[0m",
      "\u001b[1;31mZeroDivisionError\u001b[0m                         Traceback (most recent call last)",
      "Cell \u001b[1;32mIn[19], line 1\u001b[0m\n\u001b[1;32m----> 1\u001b[0m \u001b[38;5;28mprint\u001b[39m(\u001b[43mpropiedades\u001b[49m\u001b[43m(\u001b[49m\u001b[43mgraph2022\u001b[49m\u001b[43m)\u001b[49m)\n",
      "File \u001b[1;32mc:\\Users\\56931\\Analisis cuantitativo de redes científicas\\Física\\Paises\\functions.py:39\u001b[0m, in \u001b[0;36mpropiedades\u001b[1;34m(x)\u001b[0m\n\u001b[0;32m     37\u001b[0m \u001b[38;5;28mprint\u001b[39m(\u001b[38;5;124m\"\u001b[39m\u001b[38;5;124mEs direccionado: \u001b[39m\u001b[38;5;124m\"\u001b[39m , nx\u001b[38;5;241m.\u001b[39mis_directed(x))\n\u001b[0;32m     38\u001b[0m \u001b[38;5;28mprint\u001b[39m(\u001b[38;5;124m\"\u001b[39m\u001b[38;5;124mTransitividad\u001b[39m\u001b[38;5;124m\"\u001b[39m, nx\u001b[38;5;241m.\u001b[39mtransitivity(x))\n\u001b[1;32m---> 39\u001b[0m \u001b[38;5;28mprint\u001b[39m(\u001b[38;5;124m\"\u001b[39m\u001b[38;5;124mCentralización \u001b[39m\u001b[38;5;124m\"\u001b[39m, \u001b[43mcentralizacion\u001b[49m\u001b[43m(\u001b[49m\u001b[43mx\u001b[49m\u001b[43m)\u001b[49m)\n\u001b[0;32m     40\u001b[0m \u001b[38;5;28mprint\u001b[39m(\u001b[38;5;124m\"\u001b[39m\u001b[38;5;124mTiene: \u001b[39m\u001b[38;5;124m\"\u001b[39m, \u001b[38;5;28mlen\u001b[39m(communities), \u001b[38;5;124m'\u001b[39m\u001b[38;5;124mcomunidades\u001b[39m\u001b[38;5;124m'\u001b[39m)\n\u001b[0;32m     41\u001b[0m \u001b[38;5;28mprint\u001b[39m(communities)\n",
      "File \u001b[1;32mc:\\Users\\56931\\Analisis cuantitativo de redes científicas\\Física\\Paises\\functions.py:27\u001b[0m, in \u001b[0;36mcentralizacion\u001b[1;34m(grafo)\u001b[0m\n\u001b[0;32m     25\u001b[0m k_max \u001b[38;5;241m=\u001b[39m \u001b[38;5;28mmax\u001b[39m(grados)\n\u001b[0;32m     26\u001b[0m N \u001b[38;5;241m=\u001b[39m \u001b[38;5;28mlen\u001b[39m(grados)\n\u001b[1;32m---> 27\u001b[0m C_grado \u001b[38;5;241m=\u001b[39m \u001b[38;5;28;43msum\u001b[39;49m\u001b[43m(\u001b[49m\u001b[43m[\u001b[49m\u001b[43mk_max\u001b[49m\u001b[43m \u001b[49m\u001b[38;5;241;43m-\u001b[39;49m\u001b[43m \u001b[49m\u001b[43mk_i\u001b[49m\u001b[43m \u001b[49m\u001b[38;5;28;43;01mfor\u001b[39;49;00m\u001b[43m \u001b[49m\u001b[43mk_i\u001b[49m\u001b[43m \u001b[49m\u001b[38;5;129;43;01min\u001b[39;49;00m\u001b[43m \u001b[49m\u001b[43mgrados\u001b[49m\u001b[43m]\u001b[49m\u001b[43m)\u001b[49m\u001b[43m \u001b[49m\u001b[38;5;241;43m/\u001b[39;49m\u001b[43m \u001b[49m\u001b[43m(\u001b[49m\u001b[43m(\u001b[49m\u001b[43mN\u001b[49m\u001b[43m \u001b[49m\u001b[38;5;241;43m-\u001b[39;49m\u001b[43m \u001b[49m\u001b[38;5;241;43m1\u001b[39;49m\u001b[43m)\u001b[49m\u001b[43m \u001b[49m\u001b[38;5;241;43m*\u001b[39;49m\u001b[43m \u001b[49m\u001b[43m(\u001b[49m\u001b[43mN\u001b[49m\u001b[43m \u001b[49m\u001b[38;5;241;43m-\u001b[39;49m\u001b[43m \u001b[49m\u001b[38;5;241;43m2\u001b[39;49m\u001b[43m)\u001b[49m\u001b[43m)\u001b[49m\n\u001b[0;32m     29\u001b[0m \u001b[38;5;28;01mreturn\u001b[39;00m C_grado\n",
      "\u001b[1;31mZeroDivisionError\u001b[0m: float division by zero"
     ]
    }
   ],
   "source": [
    "print(propiedades(graph2022))"
   ]
  },
  {
   "cell_type": "markdown",
   "id": "52e0c76f",
   "metadata": {},
   "source": [
    "## Series de tiempo"
   ]
  },
  {
   "cell_type": "markdown",
   "id": "3f568e1e",
   "metadata": {},
   "source": [
    "### Densidad"
   ]
  },
  {
   "cell_type": "code",
   "execution_count": 20,
   "id": "e49fdaf7",
   "metadata": {},
   "outputs": [
    {
     "ename": "NameError",
     "evalue": "name 'densidad2018' is not defined",
     "output_type": "error",
     "traceback": [
      "\u001b[1;31m---------------------------------------------------------------------------\u001b[0m",
      "\u001b[1;31mNameError\u001b[0m                                 Traceback (most recent call last)",
      "Cell \u001b[1;32mIn[20], line 1\u001b[0m\n\u001b[1;32m----> 1\u001b[0m densidad_anio \u001b[38;5;241m=\u001b[39m [densidad2017, \u001b[43mdensidad2018\u001b[49m, densidad2019, densidad2020, densidad2021, densidad2022]\n\u001b[0;32m      3\u001b[0m df_densidad \u001b[38;5;241m=\u001b[39m pd\u001b[38;5;241m.\u001b[39mDataFrame({\n\u001b[0;32m      4\u001b[0m     \u001b[38;5;124m\"\u001b[39m\u001b[38;5;124mAño\u001b[39m\u001b[38;5;124m\"\u001b[39m: anios,\n\u001b[0;32m      5\u001b[0m     \u001b[38;5;124m\"\u001b[39m\u001b[38;5;124mDensidad\u001b[39m\u001b[38;5;124m\"\u001b[39m: densidad_anio})\n\u001b[0;32m      6\u001b[0m df_densidad\n",
      "\u001b[1;31mNameError\u001b[0m: name 'densidad2018' is not defined"
     ]
    }
   ],
   "source": [
    "densidad_anio = [densidad2017, densidad2018, densidad2019, densidad2020, densidad2021, densidad2022]\n",
    "\n",
    "df_densidad = pd.DataFrame({\n",
    "    \"Año\": anios,\n",
    "    \"Densidad\": densidad_anio})\n",
    "df_densidad\n",
    "\n",
    "df_densidad.set_index('Año', inplace=True)\n",
    "\n",
    "# Graficar la serie de tiempo\n",
    "plt.figure(figsize=(10, 6))\n",
    "plt.plot(df_densidad.index, df_densidad['Densidad'], marker='o', linestyle='-', color='b')\n",
    "plt.xlabel('Año')\n",
    "plt.ylabel('Densidad')\n",
    "plt.title('Serie de Tiempo de Densidad Uruguay (2017-2022)')\n",
    "plt.grid(True)\n",
    "plt.show()"
   ]
  },
  {
   "cell_type": "markdown",
   "id": "e0c79014",
   "metadata": {},
   "source": [
    "### Centralización"
   ]
  },
  {
   "cell_type": "code",
   "execution_count": 21,
   "id": "cfceb2e2",
   "metadata": {},
   "outputs": [
    {
     "ename": "NameError",
     "evalue": "name 'centralizacion2018' is not defined",
     "output_type": "error",
     "traceback": [
      "\u001b[1;31m---------------------------------------------------------------------------\u001b[0m",
      "\u001b[1;31mNameError\u001b[0m                                 Traceback (most recent call last)",
      "Cell \u001b[1;32mIn[21], line 1\u001b[0m\n\u001b[1;32m----> 1\u001b[0m centralizacion_anio \u001b[38;5;241m=\u001b[39m [centralizacion2017, \u001b[43mcentralizacion2018\u001b[49m, centralizacion2019, centralizacion2020, centralizacion2021, centralizacion2022]\n\u001b[0;32m      3\u001b[0m df_centralizacion \u001b[38;5;241m=\u001b[39m pd\u001b[38;5;241m.\u001b[39mDataFrame({\n\u001b[0;32m      4\u001b[0m     \u001b[38;5;124m'\u001b[39m\u001b[38;5;124mAño\u001b[39m\u001b[38;5;124m'\u001b[39m: anios,\n\u001b[0;32m      5\u001b[0m     \u001b[38;5;124m'\u001b[39m\u001b[38;5;124mCentralización de Grado\u001b[39m\u001b[38;5;124m'\u001b[39m: centralizacion_anio})\n\u001b[0;32m      6\u001b[0m df_centralizacion\n",
      "\u001b[1;31mNameError\u001b[0m: name 'centralizacion2018' is not defined"
     ]
    }
   ],
   "source": [
    "centralizacion_anio = [centralizacion2017, centralizacion2018, centralizacion2019, centralizacion2020, centralizacion2021, centralizacion2022]\n",
    "\n",
    "df_centralizacion = pd.DataFrame({\n",
    "    'Año': anios,\n",
    "    'Centralización de Grado': centralizacion_anio})\n",
    "df_centralizacion\n",
    "\n",
    "df_centralizacion.set_index('Año', inplace=True)\n",
    "\n",
    "# Graficar la serie de tiempo\n",
    "plt.figure(figsize=(10, 6))\n",
    "plt.plot(df_centralizacion.index, df_centralizacion['Centralización de Grado'], marker='o', linestyle='-', color='b')\n",
    "plt.xlabel('Año')\n",
    "plt.ylabel('Centralización de Grado')\n",
    "plt.title('Serie de Tiempo de Centralización de Grado Uruguay (2017-2022)')\n",
    "plt.grid(True)\n",
    "plt.show()"
   ]
  },
  {
   "cell_type": "markdown",
   "id": "4e77c7a6",
   "metadata": {},
   "source": [
    "### Asortatividad"
   ]
  },
  {
   "cell_type": "code",
   "execution_count": 22,
   "id": "1465dccc",
   "metadata": {},
   "outputs": [
    {
     "ename": "NameError",
     "evalue": "name 'asort2018' is not defined",
     "output_type": "error",
     "traceback": [
      "\u001b[1;31m---------------------------------------------------------------------------\u001b[0m",
      "\u001b[1;31mNameError\u001b[0m                                 Traceback (most recent call last)",
      "Cell \u001b[1;32mIn[22], line 1\u001b[0m\n\u001b[1;32m----> 1\u001b[0m asort_anio \u001b[38;5;241m=\u001b[39m [asort2017, \u001b[43masort2018\u001b[49m, asort2019, asort2020, asort2021, asort2022]\n\u001b[0;32m      3\u001b[0m df_asort \u001b[38;5;241m=\u001b[39m pd\u001b[38;5;241m.\u001b[39mDataFrame({\n\u001b[0;32m      4\u001b[0m     \u001b[38;5;124m'\u001b[39m\u001b[38;5;124mAño\u001b[39m\u001b[38;5;124m'\u001b[39m: anios,\n\u001b[0;32m      5\u001b[0m     \u001b[38;5;124m'\u001b[39m\u001b[38;5;124mAsortatividad\u001b[39m\u001b[38;5;124m'\u001b[39m: asort_anio})\n\u001b[0;32m      7\u001b[0m df_asort\u001b[38;5;241m.\u001b[39mset_index(\u001b[38;5;124m'\u001b[39m\u001b[38;5;124mAño\u001b[39m\u001b[38;5;124m'\u001b[39m, inplace\u001b[38;5;241m=\u001b[39m\u001b[38;5;28;01mTrue\u001b[39;00m)\n",
      "\u001b[1;31mNameError\u001b[0m: name 'asort2018' is not defined"
     ]
    }
   ],
   "source": [
    "asort_anio = [asort2017, asort2018, asort2019, asort2020, asort2021, asort2022]\n",
    "\n",
    "df_asort = pd.DataFrame({\n",
    "    'Año': anios,\n",
    "    'Asortatividad': asort_anio})\n",
    "\n",
    "df_asort.set_index('Año', inplace=True)\n",
    "\n",
    "# Graficar la serie de tiempo\n",
    "plt.figure(figsize=(10, 6))\n",
    "plt.plot(df_asort.index, df_asort['Asortatividad'], marker='o', linestyle='-', color='b')\n",
    "plt.xlabel('Año')\n",
    "plt.ylabel('Asortatividad')\n",
    "plt.title('Serie de Tiempo de Asortatividad Uruguay (2017-2022)')\n",
    "plt.grid(True)\n",
    "plt.show()"
   ]
  },
  {
   "cell_type": "markdown",
   "id": "d4650c61",
   "metadata": {},
   "source": [
    "### Transitividad"
   ]
  },
  {
   "cell_type": "code",
   "execution_count": 23,
   "id": "b803572e",
   "metadata": {},
   "outputs": [
    {
     "ename": "NameError",
     "evalue": "name 'trans2018' is not defined",
     "output_type": "error",
     "traceback": [
      "\u001b[1;31m---------------------------------------------------------------------------\u001b[0m",
      "\u001b[1;31mNameError\u001b[0m                                 Traceback (most recent call last)",
      "Cell \u001b[1;32mIn[23], line 1\u001b[0m\n\u001b[1;32m----> 1\u001b[0m trans_anio \u001b[38;5;241m=\u001b[39m [trans2017, \u001b[43mtrans2018\u001b[49m, trans2019, trans2020, trans2021, trans2022]\n\u001b[0;32m      3\u001b[0m df_asort \u001b[38;5;241m=\u001b[39m pd\u001b[38;5;241m.\u001b[39mDataFrame({\n\u001b[0;32m      4\u001b[0m     \u001b[38;5;124m'\u001b[39m\u001b[38;5;124mAño\u001b[39m\u001b[38;5;124m'\u001b[39m: anios,\n\u001b[0;32m      5\u001b[0m     \u001b[38;5;124m'\u001b[39m\u001b[38;5;124mTransitividad\u001b[39m\u001b[38;5;124m'\u001b[39m: trans_anio})\n\u001b[0;32m      7\u001b[0m df_asort\u001b[38;5;241m.\u001b[39mset_index(\u001b[38;5;124m'\u001b[39m\u001b[38;5;124mAño\u001b[39m\u001b[38;5;124m'\u001b[39m, inplace\u001b[38;5;241m=\u001b[39m\u001b[38;5;28;01mTrue\u001b[39;00m)\n",
      "\u001b[1;31mNameError\u001b[0m: name 'trans2018' is not defined"
     ]
    }
   ],
   "source": [
    "trans_anio = [trans2017, trans2018, trans2019, trans2020, trans2021, trans2022]\n",
    "\n",
    "df_asort = pd.DataFrame({\n",
    "    'Año': anios,\n",
    "    'Transitividad': trans_anio})\n",
    "\n",
    "df_asort.set_index('Año', inplace=True)\n",
    "\n",
    "# Graficar la serie de tiempo\n",
    "plt.figure(figsize=(10, 6))\n",
    "plt.plot(df_asort.index, df_asort['Transitividad'], marker='o', linestyle='-', color='b')\n",
    "plt.xlabel('Año')\n",
    "plt.ylabel('Transitividad')\n",
    "plt.title('Serie de Tiempo de Transitividad Uruguay (2017-2022)')\n",
    "plt.grid(True)\n",
    "plt.show()"
   ]
  },
  {
   "cell_type": "markdown",
   "id": "6eb8d495",
   "metadata": {},
   "source": [
    "### Comparación métricas\n"
   ]
  },
  {
   "cell_type": "code",
   "execution_count": 24,
   "id": "99881e71",
   "metadata": {},
   "outputs": [
    {
     "ename": "NameError",
     "evalue": "name 'densidad_anio' is not defined",
     "output_type": "error",
     "traceback": [
      "\u001b[1;31m---------------------------------------------------------------------------\u001b[0m",
      "\u001b[1;31mNameError\u001b[0m                                 Traceback (most recent call last)",
      "Cell \u001b[1;32mIn[24], line 3\u001b[0m\n\u001b[0;32m      1\u001b[0m df \u001b[38;5;241m=\u001b[39m pd\u001b[38;5;241m.\u001b[39mDataFrame({\n\u001b[0;32m      2\u001b[0m     \u001b[38;5;124m'\u001b[39m\u001b[38;5;124mAño\u001b[39m\u001b[38;5;124m'\u001b[39m: anios,\n\u001b[1;32m----> 3\u001b[0m     \u001b[38;5;124m'\u001b[39m\u001b[38;5;124mDensidad\u001b[39m\u001b[38;5;124m'\u001b[39m: \u001b[43mdensidad_anio\u001b[49m,\n\u001b[0;32m      4\u001b[0m     \u001b[38;5;124m'\u001b[39m\u001b[38;5;124mCentralización de Grado\u001b[39m\u001b[38;5;124m'\u001b[39m: centralizacion_anio,\n\u001b[0;32m      5\u001b[0m     \u001b[38;5;124m'\u001b[39m\u001b[38;5;124mAsortatividad\u001b[39m\u001b[38;5;124m'\u001b[39m: asort_anio,\n\u001b[0;32m      6\u001b[0m     \u001b[38;5;124m'\u001b[39m\u001b[38;5;124mTransitividad\u001b[39m\u001b[38;5;124m'\u001b[39m: trans_anio\n\u001b[0;32m      7\u001b[0m })\n\u001b[0;32m      9\u001b[0m df\u001b[38;5;241m.\u001b[39mset_index(\u001b[38;5;124m'\u001b[39m\u001b[38;5;124mAño\u001b[39m\u001b[38;5;124m'\u001b[39m, inplace\u001b[38;5;241m=\u001b[39m\u001b[38;5;28;01mTrue\u001b[39;00m)\n\u001b[0;32m     11\u001b[0m plt\u001b[38;5;241m.\u001b[39mfigure(figsize\u001b[38;5;241m=\u001b[39m(\u001b[38;5;241m12\u001b[39m, \u001b[38;5;241m7\u001b[39m))\n",
      "\u001b[1;31mNameError\u001b[0m: name 'densidad_anio' is not defined"
     ]
    }
   ],
   "source": [
    "df = pd.DataFrame({\n",
    "    'Año': anios,\n",
    "    'Densidad': densidad_anio,\n",
    "    'Centralización de Grado': centralizacion_anio,\n",
    "    'Asortatividad': asort_anio,\n",
    "    'Transitividad': trans_anio\n",
    "})\n",
    "\n",
    "df.set_index('Año', inplace=True)\n",
    "\n",
    "plt.figure(figsize=(12, 7))\n",
    "plt.plot(df.index, df['Densidad'], marker='o', label='Densidad')\n",
    "plt.plot(df.index, df['Centralización de Grado'], marker='s', label='Centralización de Grado')\n",
    "plt.plot(df.index, df['Asortatividad'], marker='^', label='Asortatividad')\n",
    "plt.plot(df.index, df['Transitividad'], marker='d', label='Transitividad')\n",
    "\n",
    "plt.xlabel('Año')\n",
    "plt.ylabel('Valor')\n",
    "plt.title('Evolución de Métricas de Red Uruguaya (2017-2022)')\n",
    "plt.legend()\n",
    "plt.grid(True)\n",
    "plt.tight_layout()\n",
    "plt.show()"
   ]
  }
 ],
 "metadata": {
  "kernelspec": {
   "display_name": "base",
   "language": "python",
   "name": "python3"
  },
  "language_info": {
   "codemirror_mode": {
    "name": "ipython",
    "version": 3
   },
   "file_extension": ".py",
   "mimetype": "text/x-python",
   "name": "python",
   "nbconvert_exporter": "python",
   "pygments_lexer": "ipython3",
   "version": "3.11.5"
  }
 },
 "nbformat": 4,
 "nbformat_minor": 5
}
